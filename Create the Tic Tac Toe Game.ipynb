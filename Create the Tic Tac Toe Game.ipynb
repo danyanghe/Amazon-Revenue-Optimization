{
 "cells": [
  {
   "cell_type": "markdown",
   "metadata": {},
   "source": [
    "# Create the Tic Tac Toe Game!"
   ]
  },
  {
   "cell_type": "markdown",
   "metadata": {},
   "source": [
    "**Write a function that can print out a board.**"
   ]
  },
  {
   "cell_type": "code",
   "execution_count": 4,
   "metadata": {
    "collapsed": true
   },
   "outputs": [],
   "source": [
    "from IPython.display import clear_output\n",
    "\n",
    "def display_board(board):\n",
    "    \n",
    "    clear_output()\n",
    "    print('   |   |')\n",
    "    print(' ' + board[7]+' | '+board[8]+' | '+board[9])\n",
    "    print('   |   |')\n",
    "    print('-----------')\n",
    "    print('   |   |')\n",
    "    print(' ' + board[4]+' | '+board[5]+' | '+board[6])\n",
    "    print('   |   |')\n",
    "    print('-----------')\n",
    "    print('   |   |')\n",
    "    print(' ' + board[1]+' | '+board[2]+' | '+board[3])\n",
    "    print('   |   |')"
   ]
  },
  {
   "cell_type": "markdown",
   "metadata": {},
   "source": [
    "**Write a function that can take in a player input and assign their marker as 'X' or 'O'. **"
   ]
  },
  {
   "cell_type": "code",
   "execution_count": 5,
   "metadata": {
    "collapsed": true
   },
   "outputs": [],
   "source": [
    "def player_input():\n",
    "    \n",
    "    marker = ''\n",
    "    \n",
    "    while not (marker == 'X' or marker == 'O'):\n",
    "        marker = raw_input('Player 1, please choose X or O: ').upper()\n",
    "        \n",
    "    player1 = marker\n",
    "    \n",
    "    if player1 == 'X':\n",
    "        return ('X', 'O')\n",
    "    else:\n",
    "        return ('O', 'X')"
   ]
  },
  {
   "cell_type": "markdown",
   "metadata": {},
   "source": [
    "**Write a function that takes in the board list object, a marker ('X' or 'O'), and a desired position (number 1-9) and assigns it to the board.**"
   ]
  },
  {
   "cell_type": "code",
   "execution_count": 6,
   "metadata": {
    "collapsed": true
   },
   "outputs": [],
   "source": [
    "def place_marker(board, marker, position):\n",
    "    \n",
    "    board[position] = marker "
   ]
  },
  {
   "cell_type": "markdown",
   "metadata": {},
   "source": [
    "**Write a function that takes in a board and a mark (X or O) and then checks to see if that mark has won. **"
   ]
  },
  {
   "cell_type": "code",
   "execution_count": 7,
   "metadata": {
    "collapsed": true
   },
   "outputs": [],
   "source": [
    "def win_check(board, mark):\n",
    "    \n",
    "    ## Check the dialogse\n",
    "    return ((board[9]== mark and board[5]== mark and board[1] == mark) or\n",
    "    (board[7]== mark and board[5]== mark and board[3] == mark) or\n",
    "    ## Check the rows\n",
    "    (board[1]== mark and board[2]== mark and board[3] == mark) or\n",
    "    (board[4]== mark and board[5]== mark and board[6] == mark) or\n",
    "    (board[7]== mark and board[8]== mark and board[9] == mark) or\n",
    "    ## Check the columns\n",
    "    (board[1]== mark and board[4]== mark and board[7] == mark) or\n",
    "    (board[2]== mark and board[5]== mark and board[8] == mark) or\n",
    "    (board[3]== mark and board[6]== mark and board[9] == mark))"
   ]
  },
  {
   "cell_type": "markdown",
   "metadata": {},
   "source": [
    "**Write a function that uses the random module to randomly decide which player goes first.**"
   ]
  },
  {
   "cell_type": "code",
   "execution_count": 8,
   "metadata": {
    "collapsed": true
   },
   "outputs": [],
   "source": [
    "import random\n",
    "\n",
    "def choose_first(): \n",
    "    flip = random.randint(0,1)  \n",
    "    if flip == 0:\n",
    "        return 'Player 1'\n",
    "    else:\n",
    "        return 'Player 2'"
   ]
  },
  {
   "cell_type": "markdown",
   "metadata": {},
   "source": [
    "**Write a function that returns a boolean indicating whether a space on the board is freely available.**"
   ]
  },
  {
   "cell_type": "code",
   "execution_count": 9,
   "metadata": {
    "collapsed": true
   },
   "outputs": [],
   "source": [
    "def space_check(board, position):\n",
    "    \n",
    "    return board[position] == ' '"
   ]
  },
  {
   "cell_type": "markdown",
   "metadata": {},
   "source": [
    "**Write a function that checks if the board is full and returns a boolean value. True if full, False otherwise.**"
   ]
  },
  {
   "cell_type": "code",
   "execution_count": 10,
   "metadata": {
    "collapsed": true
   },
   "outputs": [],
   "source": [
    "def full_board_check(board):\n",
    "    \n",
    "    for i in range(1,10):\n",
    "        if space_check(board, i):\n",
    "            return False\n",
    "    # Board is full if we return true\n",
    "    return True\n",
    "    "
   ]
  },
  {
   "cell_type": "markdown",
   "metadata": {},
   "source": [
    "**Write a function that asks for a player's next position (as a number 1-9) and then uses the function from step 6 to check if it's a free position. If it is, then return the position for later use.**"
   ]
  },
  {
   "cell_type": "code",
   "execution_count": 11,
   "metadata": {
    "collapsed": true
   },
   "outputs": [],
   "source": [
    "def player_choice(board):\n",
    "    \n",
    "    position = 0\n",
    "    while position not in range(1,10) or not space_check(board, int(position)):\n",
    "        position = int(raw_input('Choose a position (1-9): '))\n",
    "    \n",
    "    return int(position)\n"
   ]
  },
  {
   "cell_type": "markdown",
   "metadata": {},
   "source": [
    "**Write a function that asks the player if they want to play again and returns a boolean True if they do want to play again.**"
   ]
  },
  {
   "cell_type": "code",
   "execution_count": 12,
   "metadata": {
    "collapsed": true
   },
   "outputs": [],
   "source": [
    "def replay():\n",
    "    return raw_input('Do you want to play again or not? Y/N: ').upper().startswith('Y')"
   ]
  },
  {
   "cell_type": "markdown",
   "metadata": {
    "collapsed": true
   },
   "source": [
    "### **Run the game!**"
   ]
  },
  {
   "cell_type": "code",
   "execution_count": 14,
   "metadata": {},
   "outputs": [
    {
     "name": "stdout",
     "output_type": "stream",
     "text": [
      "   |   |\n",
      " X |   |  \n",
      "   |   |\n",
      "-----------\n",
      "   |   |\n",
      " X | X | O\n",
      "   |   |\n",
      "-----------\n",
      "   |   |\n",
      " X | O | O\n",
      "   |   |\n",
      "Player 1 Has Won!!!\n",
      "Do you want to play again or not? Y/N: n\n"
     ]
    }
   ],
   "source": [
    "print('Welcome to Tic Tac Toe!')\n",
    "\n",
    "while True:\n",
    "    \n",
    "    # play the game\n",
    "    \n",
    "    ## Set the game up here (board, whos first, choose the marker)\n",
    "    game_board = [' '] * 10\n",
    "    player1_marker, player2_marker = player_input()\n",
    "    player_first = choose_first()\n",
    "    print player_first +' will go first'\n",
    "    \n",
    "    play_game = ' '\n",
    "    while play_game != 'Y' and play_game!= 'N':\n",
    "        play_game = raw_input('Ready to play game? Y/N: ').upper()\n",
    "    if play_game == 'Y':\n",
    "        game_on = True\n",
    "    else:\n",
    "        game_on = False\n",
    "        \n",
    "    while game_on:\n",
    "        \n",
    "        ### Player 1 Turn\n",
    "        if player_first == 'Player 1':\n",
    "            \n",
    "            # display the board\n",
    "            display_board(game_board)\n",
    "            # choose a position\n",
    "            position = player_choice(game_board)\n",
    "            # display the mark on the board\n",
    "            place_marker(game_board, player1_marker, position)\n",
    "            # check if he won\n",
    "            if win_check(game_board, player1_marker):\n",
    "                display_board(game_board)\n",
    "                print 'Player 1 Has Won!!!'\n",
    "                game_on = False\n",
    "            \n",
    "            # check if there is a tie\n",
    "            else:\n",
    "                if full_board_check(game_board):\n",
    "                    display_board(game_board)\n",
    "                    print 'TIE GAME!'\n",
    "                else:\n",
    "                    player_first = 'Player 2'\n",
    "                    \n",
    "            # no win or no tie? the other player's turn\n",
    "            \n",
    "        ### Player2's turn.\n",
    "        else:\n",
    "            # display the board\n",
    "            display_board(game_board)\n",
    "            # choose a position\n",
    "            position = player_choice(game_board)\n",
    "            # display the mark on the board\n",
    "            place_marker(game_board, player2_marker, position)\n",
    "            # check if he won\n",
    "            if win_check(game_board, player2_marker):\n",
    "                display_board(game_board)\n",
    "                print 'Player 2 Has Won!!!'\n",
    "                game_on = False\n",
    "            \n",
    "            # check if there is a tie\n",
    "            else:\n",
    "                if full_board_check(game_board):\n",
    "                    display_board(game_board)\n",
    "                    print 'TIE GAME!'\n",
    "                else:\n",
    "                    player_first = 'Player 1'\n",
    "            \n",
    "    if not replay():\n",
    "        break"
   ]
  },
  {
   "cell_type": "markdown",
   "metadata": {
    "collapsed": true
   },
   "source": [
    "## Good Job!"
   ]
  }
 ],
 "metadata": {
  "kernelspec": {
   "display_name": "Python 2",
   "language": "python",
   "name": "python2"
  },
  "language_info": {
   "codemirror_mode": {
    "name": "ipython",
    "version": 2
   },
   "file_extension": ".py",
   "mimetype": "text/x-python",
   "name": "python",
   "nbconvert_exporter": "python",
   "pygments_lexer": "ipython2",
   "version": "2.7.13"
  }
 },
 "nbformat": 4,
 "nbformat_minor": 1
}
